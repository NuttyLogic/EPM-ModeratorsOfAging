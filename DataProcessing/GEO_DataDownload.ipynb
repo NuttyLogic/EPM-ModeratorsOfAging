{
 "cells": [
  {
   "cell_type": "markdown",
   "metadata": {},
   "source": [
    "## GEO 450k and EPIC Data Downloads"
   ]
  },
  {
   "cell_type": "code",
   "execution_count": 1,
   "metadata": {},
   "outputs": [],
   "source": [
    "from collections import Counter\n",
    "from ftplib import FTP\n",
    "import gzip\n",
    "import io\n",
    "import math\n",
    "import os \n",
    "import pickle\n",
    "import random\n",
    "import shutil\n",
    "import subprocess\n",
    "from typing import Dict, List, Union\n",
    "\n",
    "import joblib\n",
    "import matplotlib.pyplot as plt\n",
    "import numpy as np\n",
    "import pandas as pd\n",
    "import seaborn as sns\n",
    "from tqdm.notebook import tqdm\n",
    "\n",
    "from GEODataProcessing.SeriesMatrixMetaExtractor import SeriesMatrixMetaExtractor"
   ]
  },
  {
   "cell_type": "code",
   "execution_count": 2,
   "metadata": {},
   "outputs": [],
   "source": [
    "home_dir = os.getcwd() + '/'"
   ]
  },
  {
   "cell_type": "code",
   "execution_count": 3,
   "metadata": {},
   "outputs": [],
   "source": [
    "wd = '/u/nobackup/mcdbscratch/colinpat/EPMTraitAssociation/'"
   ]
  },
  {
   "cell_type": "code",
   "execution_count": 4,
   "metadata": {},
   "outputs": [],
   "source": [
    "four_50k_meta = f'{home_dir}450k_top_500.txt'\n",
    "epic_meta = f'{home_dir}epic_top_500.txt'"
   ]
  },
  {
   "cell_type": "code",
   "execution_count": 5,
   "metadata": {},
   "outputs": [],
   "source": [
    "def parse_meta_data(file_path, platform_id):\n",
    "    with open(file_path, 'r') as meta:\n",
    "        all_exps = {}\n",
    "        exp_info = {}\n",
    "        for line in meta:\n",
    "            line_strip = line.strip()\n",
    "            if not line_strip:\n",
    "                if exp_info:\n",
    "                    all_exps[exp_info['accession_id']] = exp_info\n",
    "                exp_info = {}\n",
    "            else:\n",
    "                if not exp_info:\n",
    "                    exp_info['title'] = ' '.join(line_strip.split(' ')[1:])\n",
    "                elif '(Submitter supplied)' in line_strip:\n",
    "                    exp_info['description'] = line_strip.replace('(Submitter supplied) ', '')\n",
    "                elif 'Organism' in line_strip:\n",
    "                    exp_info['organism'] = line_strip.split(':')[1].strip()\n",
    "                elif 'Platform' in line_strip:\n",
    "                    line_split = line_strip.split(' ')\n",
    "                    exp_info['platform_id'] = platform_id\n",
    "                    exp_info['sample_number'] = int(line_split[-2])\n",
    "                elif 'FTP' in line_strip:\n",
    "                    exp_info['ftp_link'] = line_strip.split(' ')[-1]\n",
    "                elif 'Series' in line_strip:\n",
    "                    line_split = line_strip.split('\\t')\n",
    "                    exp_info['accession_id'] = line_strip.split(': ')[1].split('\\t')[0]\n",
    "    return all_exps"
   ]
  },
  {
   "cell_type": "markdown",
   "metadata": {},
   "source": [
    "## Parse File Metadata "
   ]
  },
  {
   "cell_type": "code",
   "execution_count": 6,
   "metadata": {},
   "outputs": [],
   "source": [
    "all_exp = parse_meta_data(four_50k_meta, 'GPL13534')"
   ]
  },
  {
   "cell_type": "code",
   "execution_count": 7,
   "metadata": {},
   "outputs": [],
   "source": [
    "all_exp.update(parse_meta_data(epic_meta, 'GPL21145'))"
   ]
  },
  {
   "cell_type": "markdown",
   "metadata": {},
   "source": [
    "## FTP Walking Functions"
   ]
  },
  {
   "cell_type": "code",
   "execution_count": 8,
   "metadata": {},
   "outputs": [],
   "source": [
    "def retrieve_exp_info(exp):\n",
    "    file_links = {}\n",
    "    raw_url = exp['ftp_link']\n",
    "    processed_link = raw_url.replace('ftp://', '').split('/')[0]\n",
    "    exp_dir = '/'.join(raw_url.replace('ftp://', '').split('/')[1:])\n",
    "    ftp = FTP(processed_link)\n",
    "    ftp.login()\n",
    "    ftp.cwd(exp_dir)\n",
    "    directories = ftp.nlst()\n",
    "    for direct in directories:\n",
    "        ftp.cwd(direct)\n",
    "        files = ftp.nlst()\n",
    "        file_links[direct] = (ftp.pwd(), files)\n",
    "        ftp.cwd('..')\n",
    "    if 'suppl' in file_links:\n",
    "        if 'filelist.txt' in file_links['suppl'][1]:\n",
    "            ftp.cwd('suppl')\n",
    "            supp_lines = []\n",
    "            ftp.retrlines('RETR filelist.txt', supp_lines.append)\n",
    "            file_links['supplemental_files'] = supp_lines\n",
    "    ftp.close()\n",
    "    return exp['accession_id'], f'ftp://{processed_link}', file_links"
   ]
  },
  {
   "cell_type": "code",
   "execution_count": 9,
   "metadata": {},
   "outputs": [],
   "source": [
    "if not os.path.exists('idat_exp_meta.pkl'):\n",
    "    processed_links = joblib.Parallel(n_jobs=8, verbose=10)(joblib.delayed(retrieve_exp_info)(exp) for exp in all_exp.values())\n",
    "    for exp_id, ftp_head, links in processed_links:\n",
    "        all_exp[exp_id].update(links)\n",
    "        all_exp[exp_id]['ftp_head'] = ftp_head\n",
    "        \n",
    "    idat_exps = []\n",
    "    idat_sample_count = 0\n",
    "\n",
    "    for exp_id, exp in all_exp.items():\n",
    "        supp_files = exp.get('supplemental_files', [])\n",
    "        for file in supp_files:\n",
    "            if 'IDAT' in file.upper():\n",
    "                idat_exps.append(exp_id)\n",
    "                idat_sample_count += exp['sample_number']\n",
    "                break\n",
    "                \n",
    "    idat_exp_info = {key: value for key, value in all_exp.items() if key in idat_exps}\n",
    "    \n",
    "    with open('idat_exp_meta.pkl', 'wb') as out:\n",
    "        pickle.dump(idat_exp_info, out)\n",
    "        \n",
    "else:\n",
    "    with open('idat_exp_meta.pkl', 'rb') as info:\n",
    "        idat_exp_info = pickle.load(info)\n",
    "        idat_exps = []"
   ]
  },
  {
   "cell_type": "markdown",
   "metadata": {},
   "source": [
    "### Dowload series matrix files for files with IDAT files available"
   ]
  },
  {
   "cell_type": "code",
   "execution_count": 10,
   "metadata": {},
   "outputs": [],
   "source": [
    "series_output_dir = f'{wd}series_matrices/'"
   ]
  },
  {
   "cell_type": "code",
   "execution_count": 11,
   "metadata": {},
   "outputs": [],
   "source": [
    "def download_series_matrix(exp, output_directory):\n",
    "    matrix_head, files = exp.get('matrix', (None, None))\n",
    "    if not matrix_head:\n",
    "        return exp['accession_id']\n",
    "    else:\n",
    "        series_head = f'{exp[\"ftp_head\"]}/{matrix_head}/'\n",
    "        series_file = None\n",
    "        if len(files) == 1:\n",
    "            series_file = files[0]\n",
    "        else:\n",
    "            for file in files:\n",
    "                if exp['platform_id'].upper() in file.upper():\n",
    "                    series_file = file\n",
    "        if not series_file:\n",
    "            return exp['accession_id']\n",
    "        if os.path.exists(f'{output_directory}{series_file}'):\n",
    "            return 0\n",
    "        wget_command = ['wget', '-nd', '-P', \n",
    "                        output_directory, f'{series_head}{series_file}']\n",
    "        p = subprocess.Popen(args=wget_command)\n",
    "        p.wait()\n",
    "        if p.returncode:\n",
    "            return exp['accession_id']\n",
    "        else:\n",
    "            return 0"
   ]
  },
  {
   "cell_type": "code",
   "execution_count": 12,
   "metadata": {},
   "outputs": [
    {
     "name": "stderr",
     "output_type": "stream",
     "text": [
      "[Parallel(n_jobs=32)]: Using backend LokyBackend with 32 concurrent workers.\n",
      "[Parallel(n_jobs=32)]: Done   0 out of   0 | elapsed:    0.0s finished\n"
     ]
    }
   ],
   "source": [
    "download_status = joblib.Parallel(n_jobs=32, verbose=10)(joblib.delayed(download_series_matrix)\n",
    "                                                         (*[all_exp[exp], series_output_dir]) for exp in idat_exps)"
   ]
  },
  {
   "cell_type": "markdown",
   "metadata": {},
   "source": [
    "## Parse Series Matrices to Extract MetaData "
   ]
  },
  {
   "cell_type": "code",
   "execution_count": 13,
   "metadata": {},
   "outputs": [],
   "source": [
    "def extract_meta(exp, series_directory):\n",
    "    matrix_head, files = exp.get('matrix', (None, None))\n",
    "    series_file = None\n",
    "    if len(files) == 1:\n",
    "        series_file = files[0]\n",
    "    else:\n",
    "        for file in files:\n",
    "            if exp['platform_id'].upper() in file.upper():\n",
    "                series_file = file\n",
    "    directory = series_directory if series_directory.endswith('/') else f'{series_directory}/'\n",
    "    series_path = f'{directory}{series_file}'\n",
    "    matrix_parser = SeriesMatrixMetaExtractor(series_matrix_path=series_path, sample_id='!Sample_geo_accession', phenotype_ids=['!Sample_characteristics_ch1'])\n",
    "    matrix_parser.get_meta_data()\n",
    "    return matrix_parser.phenotype_matrix "
   ]
  },
  {
   "cell_type": "code",
   "execution_count": 14,
   "metadata": {},
   "outputs": [],
   "source": [
    "if not os.path.exists(f'{wd}all_meta.pkl'):\n",
    "    exp_sample_meta = joblib.Parallel(n_jobs=8, verbose=10)(joblib.delayed(extract_meta)(*[exp, series_output_dir]) for exp in idat_exp_info.values())\n",
    "    all_meta = {}\n",
    "    for exp in exp_sample_meta:\n",
    "        all_meta.update(exp)\n",
    "    with open(f'{wd}all_meta.pkl', 'wb') as out:\n",
    "        pickle.dump(all_meta, out)\n",
    "else:\n",
    "    with open(f'{wd}all_meta.pkl', 'rb') as meta:\n",
    "        all_meta = pickle.load(meta)"
   ]
  },
  {
   "cell_type": "markdown",
   "metadata": {},
   "source": [
    "### Update Meta with File Info"
   ]
  },
  {
   "cell_type": "code",
   "execution_count": 15,
   "metadata": {},
   "outputs": [],
   "source": [
    "def get_sample_idat_meta(gsm_id, gsm_info, supp_files):\n",
    "    idat_files = {}\n",
    "    for file in supp_files:\n",
    "        if gsm_id in file:\n",
    "            file_name, file_date = file.strip().split('\\t')[1:3] \n",
    "            if 'grn' in file_name.lower():\n",
    "                idat_files['Grn'] = file_name\n",
    "            elif 'red' in file_name.lower():\n",
    "                idat_files['Red'] = file_name\n",
    "            idat_files['idat_date'] = file_date\n",
    "            if len(idat_files) == 3:\n",
    "                break\n",
    "    return gsm_id, idat_files"
   ]
  },
  {
   "cell_type": "code",
   "execution_count": 16,
   "metadata": {},
   "outputs": [],
   "source": [
    "if not os.path.exists(f'{wd}idat_meta.pkl'):\n",
    "    sample_idat_links = joblib.Parallel(n_jobs=8, verbose=10)(joblib.delayed(get_sample_idat_meta)\n",
    "                                                              (*[gsm_id, gsm_info, idat_exp_info[gsm_info['experiment_id']]['supplemental_files']]) for gsm_id, gsm_info in all_meta.items())\n",
    "    idat_sample_meta = {}\n",
    "    for gsm_id, idat_links in sample_idat_links:\n",
    "        if len(idat_links) == 3:\n",
    "            sample_info = all_meta[gsm_id]\n",
    "            sample_info.update(idat_links)\n",
    "            idat_sample_meta[gsm_id] = sample_info\n",
    "    with open(f'{wd}idat_meta.pkl', 'wb') as out:\n",
    "        pickle.dump(idat_sample_meta, out)\n",
    "else:\n",
    "    with open(f'{wd}idat_meta.pkl', 'rb') as meta:\n",
    "        idat_sample_meta = pickle.load(meta)"
   ]
  },
  {
   "cell_type": "markdown",
   "metadata": {},
   "source": [
    "### Explore Phenotype Data "
   ]
  },
  {
   "cell_type": "code",
   "execution_count": 17,
   "metadata": {},
   "outputs": [],
   "source": [
    "def search_for_age(gsm_meta: dict) -> bool:\n",
    "    for key in gsm_meta:\n",
    "        if 'age' in key.lower() and 'stage' not in key.lower():\n",
    "            return True\n",
    "    return False"
   ]
  },
  {
   "cell_type": "code",
   "execution_count": 18,
   "metadata": {},
   "outputs": [],
   "source": [
    "idat_age_meta = {key:value for key, value in idat_sample_meta.items() if search_for_age(value)}"
   ]
  },
  {
   "cell_type": "code",
   "execution_count": 19,
   "metadata": {},
   "outputs": [],
   "source": [
    "idat_age_exps = set(gsm_meta['experiment_id'] for gsm_meta in idat_age_meta.values())\n",
    "idat_exps = {key:value for key, value in idat_exp_info.items() if key in idat_age_exps}"
   ]
  },
  {
   "cell_type": "code",
   "execution_count": 20,
   "metadata": {},
   "outputs": [],
   "source": [
    "# manually remove cancer related exps\n",
    "exps_to_drop = ['GSE131482', 'GSE68825', 'GSE60274', 'GSE104293', 'GSE92462', 'GSE69636', 'GSE69633', 'GSE96879',\n",
    "                'GSE132804', 'GSE72308', 'GSE157341', 'GSE101764', 'GSE72021', 'GSE108462', 'GSE72251', 'GSE72245', \n",
    "                'GSE88883', 'GSE111933', 'GSE133918',  'GSE132804', 'GSE72308', 'GSE157341', 'GSE101764', 'GSE72021',\n",
    "                'GSE108462', 'GSE72251', 'GSE72245', 'GSE88883', 'GSE111933', 'GSE133918', 'GSE104210', 'GSE104210',\n",
    "                'GSE93646', 'GSE60185', 'GSE77276', 'GSE49149', 'GSE66836', 'GSE103659', 'GSE89181', 'GSE73515',\n",
    "                'GSE86961', 'GSE128654', 'GSE89852', 'GSE85828', 'GSE131013', 'GSE141039', 'GSE70460', 'GSE97466', \n",
    "                'GSE141363', 'GSE68838', 'GSE122126', 'GSE77955', 'GSE118694', 'GSE155311', 'GSE116699', 'GSE146556','GSE146556',\n",
    " 'GSE100850',\n",
    " 'GSE130748',\n",
    " 'GSE133985',\n",
    " 'GSE144213',\n",
    " 'GSE149282',\n",
    " 'GSE116699',\n",
    " 'GSE119260',\n",
    " 'GSE123367',\n",
    "                'GSE122469', 'GSE158612', 'GSE14125', 'GSE136724', 'GSE110600', 'GSE103280', 'GSE103271', 'GSE103328', 'GSE94677'\n",
    "                ]"
   ]
  },
  {
   "cell_type": "code",
   "execution_count": 21,
   "metadata": {},
   "outputs": [],
   "source": [
    "idat_exps = {key: value for key, value in idat_exps.items() if key not in exps_to_drop and value['sample_number'] > 50}"
   ]
  },
  {
   "cell_type": "code",
   "execution_count": 22,
   "metadata": {},
   "outputs": [],
   "source": [
    "idat_sample_meta = {gsm_id: gsm_meta for gsm_id, gsm_meta in idat_sample_meta.items() if gsm_meta['experiment_id'] in idat_exps}"
   ]
  },
  {
   "cell_type": "code",
   "execution_count": 23,
   "metadata": {},
   "outputs": [
    {
     "data": {
      "application/vnd.jupyter.widget-view+json": {
       "model_id": "f749289e4ed5455dae4f01e470fb4bb4",
       "version_major": 2,
       "version_minor": 0
      },
      "text/plain": [
       "HBox(children=(FloatProgress(value=0.0, max=20707.0), HTML(value='')))"
      ]
     },
     "metadata": {},
     "output_type": "display_data"
    },
    {
     "name": "stdout",
     "output_type": "stream",
     "text": [
      "\n"
     ]
    }
   ],
   "source": [
    "age_cats = set()\n",
    "ages = []\n",
    "\n",
    "for gsm_id in tqdm(idat_sample_meta):\n",
    "    gsm_meta = dict(idat_sample_meta[gsm_id].items())\n",
    "    for cat, value in gsm_meta.items():\n",
    "        if 'age' in cat.lower() and 'stage' not in cat.lower():\n",
    "            if cat == 'age (days)':\n",
    "                idat_sample_meta[gsm_id]['age yrs'] = float(value) / 365\n",
    "                continue\n",
    "            if cat == 'fetal gestational age (weeks)':\n",
    "                idat_sample_meta[gsm_id]['age yrs'] = float(value) / 52\n",
    "                continue\n",
    "            if gsm_meta['experiment_id'] == 'GSE67444':\n",
    "                continue\n",
    "            age_cats.add(cat)\n",
    "            try:\n",
    "                idat_sample_meta[gsm_id]['age yrs'] = float(value)\n",
    "                ages.append(float(value))\n",
    "            except ValueError:\n",
    "                pass "
   ]
  },
  {
   "cell_type": "code",
   "execution_count": 24,
   "metadata": {},
   "outputs": [
    {
     "data": {
      "text/plain": [
       "21286"
      ]
     },
     "execution_count": 24,
     "metadata": {},
     "output_type": "execute_result"
    }
   ],
   "source": [
    "len(ages)"
   ]
  },
  {
   "cell_type": "code",
   "execution_count": 25,
   "metadata": {},
   "outputs": [
    {
     "data": {
      "image/png": "[encoded data removed]",
      "text/plain": [
       "<Figure size 864x864 with 1 Axes>"
      ]
     },
     "metadata": {
      "needs_background": "light"
     },
     "output_type": "display_data"
    }
   ],
   "source": [
    "fig, ax = plt.subplots(figsize=(12,12))\n",
    "\n",
    "sns.histplot(ages, kde=False, ax=ax)\n",
    "\n",
    "plt.show()"
   ]
  },
  {
   "cell_type": "markdown",
   "metadata": {},
   "source": [
    "### Download IDAT Files for all samples "
   ]
  },
  {
   "cell_type": "code",
   "execution_count": 26,
   "metadata": {},
   "outputs": [],
   "source": [
    "idat_directory = f'{wd}idat_files/'\n",
    "temp_dir = f'{wd}temp/'"
   ]
  },
  {
   "cell_type": "code",
   "execution_count": 27,
   "metadata": {},
   "outputs": [],
   "source": [
    "for exp, exp_meta in idat_exps.items():\n",
    "    good = False\n",
    "    for file in exp_meta['suppl'][1]:\n",
    "        if 'RAW' in file:\n",
    "            good = True\n",
    "    if not good:\n",
    "        print(exp, exp_meta['suppl'])"
   ]
  },
  {
   "cell_type": "code",
   "execution_count": 28,
   "metadata": {},
   "outputs": [],
   "source": [
    "def get_raw_file(exp_meta):\n",
    "    for file in exp_meta['suppl'][1]:\n",
    "        if 'RAW' in file:\n",
    "            return file\n",
    "    return None"
   ]
  },
  {
   "cell_type": "code",
   "execution_count": 29,
   "metadata": {},
   "outputs": [],
   "source": [
    "def download_and_extract_idats(exp, temp_head, output_directory):\n",
    "    suppl_head, files = exp.get('suppl', (None, None))\n",
    "    suppl_file = get_raw_file(exp)\n",
    "    if not suppl_file:\n",
    "        return exp['accession_id']\n",
    "    else:\n",
    "        suppl_path = f'{exp[\"ftp_head\"]}/{suppl_head}/{suppl_file}'\n",
    "        temp_directory = f'{temp_head}{exp[\"accession_id\"]}/'\n",
    "        try:\n",
    "            os.mkdir(temp_directory)\n",
    "        except FileExistsError:\n",
    "            return exp['accession_id']\n",
    "        wget_command = ['wget', '-nd', '-P', \n",
    "                        temp_directory, suppl_path]\n",
    "        subprocess.Popen(['mkdir', '-p', ])\n",
    "        p_1 = subprocess.Popen(args=wget_command)\n",
    "        p_1.wait()\n",
    "        p_2 = subprocess.Popen(['tar', '-C', temp_directory, '-xvf', f'{temp_directory}{suppl_file}'])\n",
    "        p_2.wait()\n",
    "        for head, directory, files in os.walk(temp_directory):\n",
    "            for file in files:\n",
    "                if 'idat' in file.lower():\n",
    "                    shutil.move(f'{head}/{file}', f'{output_directory}{file}')\n",
    "                else:\n",
    "                    os.remove(f'{head}/{file}')\n",
    "        os.rmdir(temp_directory)\n",
    "        if p_1.returncode or p_2.returncode:\n",
    "            return exp['accession_id']\n",
    "        else:\n",
    "            return 0"
   ]
  },
  {
   "cell_type": "markdown",
   "metadata": {},
   "source": [
    "```python\n",
    "download_status = joblib.Parallel(n_jobs=32, verbose=10)(joblib.delayed(download_and_extract_idats)\n",
    "                                                         (*[idat_exps[exp], temp_dir, idat_directory]) for exp in idat_exps)\n",
    "```"
   ]
  },
  {
   "cell_type": "markdown",
   "metadata": {},
   "source": [
    "## Check idat sample info"
   ]
  },
  {
   "cell_type": "code",
   "execution_count": 30,
   "metadata": {},
   "outputs": [],
   "source": [
    "def check_idat_files(gsm_meta, idat_directory):\n",
    "    idat_files = [os.path.exists(f'{idat_directory}{gsm_meta[\"Grn\"]}'),\n",
    "                  os.path.exists(f'{idat_directory}{gsm_meta[\"Red\"]}')]\n",
    "    if not all(idat_files):\n",
    "        return 1\n",
    "    return 0"
   ]
  },
  {
   "cell_type": "code",
   "execution_count": 31,
   "metadata": {},
   "outputs": [],
   "source": [
    "all_sample_meta = {gsm_id: gsm_meta for gsm_id, gsm_meta \n",
    "                   in idat_sample_meta.items() if not check_idat_files(gsm_meta, idat_directory)}"
   ]
  },
  {
   "cell_type": "markdown",
   "metadata": {},
   "source": [
    "### Process IDAT Files\n",
    "- all samples are 450k \n",
    "- process as expermental groups with reference samples attached"
   ]
  },
  {
   "cell_type": "code",
   "execution_count": 32,
   "metadata": {},
   "outputs": [],
   "source": [
    "process_exps = set([sample['experiment_id'] for sample in all_sample_meta.values()])"
   ]
  },
  {
   "cell_type": "code",
   "execution_count": 33,
   "metadata": {},
   "outputs": [],
   "source": [
    "def batch_samples(samples: List[str], batch_size: int = 100) -> List[List[str]]:\n",
    "        \"\"\"Generate sample batches\"\"\"\n",
    "        batches = []\n",
    "        batch_size = int(batch_size)\n",
    "        batch_number = int(len(samples) / batch_size)\n",
    "        if not batch_number:\n",
    "            batch_number = 1\n",
    "        batch_remainder = len(samples) % batch_size\n",
    "        if float(batch_remainder) / batch_size <= .6 and batch_remainder != 0:\n",
    "            batch_addition = int(batch_remainder / batch_number)\n",
    "            batch_size += batch_addition + 1\n",
    "            print(f'Adjusting batch size, new batch size = {batch_size}')\n",
    "        start, end = 0, batch_size\n",
    "        while True:\n",
    "            batch = samples[start: end]\n",
    "            if not batch:\n",
    "                break\n",
    "            batches.append(batch)\n",
    "            start += batch_size\n",
    "            end += batch_size\n",
    "        return batches"
   ]
  },
  {
   "cell_type": "code",
   "execution_count": 34,
   "metadata": {},
   "outputs": [
    {
     "data": {
      "text/plain": [
       "8.333333333333334"
      ]
     },
     "execution_count": 34,
     "metadata": {},
     "output_type": "execute_result"
    }
   ],
   "source": [
    "100 / 12"
   ]
  },
  {
   "cell_type": "code",
   "execution_count": 36,
   "metadata": {},
   "outputs": [
    {
     "name": "stdout",
     "output_type": "stream",
     "text": [
      "Adjusting batch size, new batch size = 15\n",
      "Adjusting batch size, new batch size = 19\n",
      "Adjusting batch size, new batch size = 21\n",
      "Adjusting batch size, new batch size = 13\n",
      "Adjusting batch size, new batch size = 13\n",
      "Adjusting batch size, new batch size = 17\n",
      "Adjusting batch size, new batch size = 16\n",
      "Adjusting batch size, new batch size = 13\n",
      "Adjusting batch size, new batch size = 25\n",
      "Adjusting batch size, new batch size = 17\n",
      "Adjusting batch size, new batch size = 13\n",
      "Adjusting batch size, new batch size = 17\n",
      "Adjusting batch size, new batch size = 20\n",
      "Adjusting batch size, new batch size = 19\n",
      "Adjusting batch size, new batch size = 21\n",
      "Adjusting batch size, new batch size = 16\n",
      "Adjusting batch size, new batch size = 19\n",
      "Adjusting batch size, new batch size = 18\n",
      "Adjusting batch size, new batch size = 14\n",
      "Adjusting batch size, new batch size = 16\n",
      "Adjusting batch size, new batch size = 17\n",
      "Adjusting batch size, new batch size = 25\n",
      "Adjusting batch size, new batch size = 26\n",
      "Adjusting batch size, new batch size = 20\n",
      "Adjusting batch size, new batch size = 18\n",
      "Adjusting batch size, new batch size = 22\n",
      "Adjusting batch size, new batch size = 20\n",
      "Adjusting batch size, new batch size = 14\n",
      "Adjusting batch size, new batch size = 20\n",
      "Adjusting batch size, new batch size = 19\n",
      "Adjusting batch size, new batch size = 17\n",
      "Adjusting batch size, new batch size = 15\n",
      "Adjusting batch size, new batch size = 19\n",
      "Adjusting batch size, new batch size = 24\n",
      "Adjusting batch size, new batch size = 26\n",
      "Adjusting batch size, new batch size = 15\n",
      "Adjusting batch size, new batch size = 23\n",
      "Adjusting batch size, new batch size = 18\n",
      "Adjusting batch size, new batch size = 19\n",
      "Adjusting batch size, new batch size = 21\n",
      "Adjusting batch size, new batch size = 15\n",
      "Adjusting batch size, new batch size = 14\n",
      "Adjusting batch size, new batch size = 23\n",
      "Adjusting batch size, new batch size = 19\n",
      "Adjusting batch size, new batch size = 16\n",
      "Adjusting batch size, new batch size = 26\n",
      "Adjusting batch size, new batch size = 16\n",
      "Adjusting batch size, new batch size = 15\n"
     ]
    }
   ],
   "source": [
    "processing_batches = {}\n",
    "\n",
    "for exp in process_exps:\n",
    "    exp_samples = []\n",
    "    for gsm_info in all_sample_meta.values():\n",
    "        if gsm_info['experiment_id'] == exp:\n",
    "            exp_samples.append(gsm_info['Red'].replace('_Red.idat.gz', ''))\n",
    "    chip_ids = Counter([sample.split('_')[1] for sample in exp_samples])\n",
    "    chip_size = math.ceil(np.mean(list(chip_ids.values())))\n",
    "    chip_ids = list(chip_ids.keys())\n",
    "    batch_size = 16 if abs(chip_size - 8) <= 1 else 12\n",
    "    exp_batches = batch_samples(chip_ids, batch_size)\n",
    "    initial_batches = []\n",
    "    for count, batch in enumerate(exp_batches):\n",
    "        batch_exp_samples = []\n",
    "        for sample in exp_samples:\n",
    "            if sample.split('_')[1] in batch:\n",
    "                batch_exp_samples.append(sample)\n",
    "        initial_batches.append(batch_exp_samples)\n",
    "        processing_batches[f'{exp}_{count + 1}'] = batch_exp_samples"
   ]
  },
  {
   "cell_type": "markdown",
   "metadata": {},
   "source": [
    "```python\n",
    "for batch, samples in processing_batches.items():\n",
    "    with open(f'ProcessExpsRefs/{batch}.txt', 'w') as out:\n",
    "        out.write('\\n'.join(samples))\n",
    "        \n",
    "with open(f'ref_sheets.txt', 'w') as out:\n",
    "    out.write('\\n'.join(list(processing_batches.keys()) + ['']))\n",
    "```"
   ]
  },
  {
   "cell_type": "code",
   "execution_count": 37,
   "metadata": {},
   "outputs": [],
   "source": [
    "cleaned_processing_batches = {}\n",
    "\n",
    "for exp in processing_batches:\n",
    "    with open(f'ProcessExpsRefs/{exp}.txt', 'r') as batch:\n",
    "        batch_samples = []\n",
    "        for sample in batch:\n",
    "            batch_samples.append(sample.strip())\n",
    "        cleaned_processing_batches[exp] = batch_samples\n",
    "        \n",
    "processing_batches = cleaned_processing_batches"
   ]
  },
  {
   "cell_type": "code",
   "execution_count": 38,
   "metadata": {},
   "outputs": [],
   "source": [
    "batch_order = []\n",
    "\n",
    "with open('ref_sheets.txt', 'r') as ref:\n",
    "    for line in ref:\n",
    "        batch_order.append(line.strip())"
   ]
  },
  {
   "cell_type": "code",
   "execution_count": 39,
   "metadata": {},
   "outputs": [],
   "source": [
    "processing_batches = {batch: processing_batches[batch] for batch in batch_order}"
   ]
  },
  {
   "cell_type": "markdown",
   "metadata": {},
   "source": [
    "### Parse Processed Data and Update Sample Metadata"
   ]
  },
  {
   "cell_type": "code",
   "execution_count": 40,
   "metadata": {},
   "outputs": [],
   "source": [
    "processed_dir = f'{wd}processed_data/'"
   ]
  },
  {
   "cell_type": "code",
   "execution_count": 41,
   "metadata": {},
   "outputs": [],
   "source": [
    "def open_gzip(file_path: str, yield_indices: Union[List[int], None] = None):\n",
    "    with io.BufferedReader(gzip.open(file_path, 'rb')) as file:\n",
    "        for line in file:\n",
    "            d_line = line.decode('utf-8').strip()\n",
    "            y_line = d_line.replace('\"', '').split(',')\n",
    "            if not yield_indices:\n",
    "                yield y_line\n",
    "            else:\n",
    "                yield [y_line[index] for index in yield_indices]"
   ]
  },
  {
   "cell_type": "code",
   "execution_count": 42,
   "metadata": {},
   "outputs": [],
   "source": [
    "def convert_to_float(value):\n",
    "    try:\n",
    "        return float(value)\n",
    "    except ValueError:\n",
    "        return value"
   ]
  },
  {
   "cell_type": "code",
   "execution_count": 43,
   "metadata": {},
   "outputs": [],
   "source": [
    "def get_meta_data(file_path) -> dict:\n",
    "    header = None\n",
    "    meta_data = {}\n",
    "    for line in open_gzip(file_path):\n",
    "        if not header:\n",
    "            header = line[1:]\n",
    "        else:\n",
    "            sample = line[0].split('_')[0]\n",
    "            meta_data[sample] = {f'proc_{key}':convert_to_float(value) for key, value in zip(header, line[1:])}\n",
    "    return meta_data"
   ]
  },
  {
   "cell_type": "code",
   "execution_count": 44,
   "metadata": {},
   "outputs": [],
   "source": [
    "unprocessed_batches = [batch for batch in processing_batches if not os.path.exists(f'{processed_dir}{batch}_qc.gz')]\n",
    "unprocessed_exps = set([batch.split('_')[0] for batch in unprocessed_batches])"
   ]
  },
  {
   "cell_type": "code",
   "execution_count": 45,
   "metadata": {},
   "outputs": [
    {
     "name": "stdout",
     "output_type": "stream",
     "text": [
      "GSE144910_1 27 True GPL21145\n",
      "GSE144910_2 28 True GPL21145\n",
      "GSE144910_3 29 True GPL21145\n",
      "GSE144910_4 30 True GPL21145\n",
      "GSE144910_5 31 True GPL21145\n",
      "GSE144910_6 32 True GPL21145\n",
      "GSE144910_7 33 True GPL21145\n",
      "GSE117130_1 117 True GPL21145\n",
      "GSE117130_2 118 True GPL21145\n",
      "GSE136296_1 128 True GPL21145\n"
     ]
    }
   ],
   "source": [
    "# check to see whole experiments throwing errors and not just individual batches\n",
    "\n",
    "for count, batch in enumerate(processing_batches):\n",
    "    if batch.split('_')[0] in unprocessed_exps:\n",
    "        print(batch, count + 1, batch in unprocessed_batches, idat_exps[batch.split('_')[0]]['platform_id'])"
   ]
  },
  {
   "cell_type": "code",
   "execution_count": 46,
   "metadata": {},
   "outputs": [],
   "source": [
    "all_sample_meta = {sample:sample_info for sample, sample_info in all_sample_meta.items() if sample_info['experiment_id'] not in unprocessed_exps}"
   ]
  },
  {
   "cell_type": "code",
   "execution_count": 47,
   "metadata": {},
   "outputs": [
    {
     "data": {
      "application/vnd.jupyter.widget-view+json": {
       "model_id": "19dcbea555574ccd9f3c272efd1c1f8b",
       "version_major": 2,
       "version_minor": 0
      },
      "text/plain": [
       "HBox(children=(FloatProgress(value=0.0, max=199.0), HTML(value='')))"
      ]
     },
     "metadata": {},
     "output_type": "display_data"
    },
    {
     "name": "stdout",
     "output_type": "stream",
     "text": [
      "\n"
     ]
    }
   ],
   "source": [
    "ref_sample_meta = []\n",
    "\n",
    "for exp in tqdm(processing_batches):\n",
    "    if exp in unprocessed_batches:\n",
    "        continue\n",
    "    exp_id, batch = exp.split('_')\n",
    "    qc_meta = get_meta_data(f'{processed_dir}{exp}_qc.gz')\n",
    "    cell_meta = get_meta_data(f'{processed_dir}{exp}_cell_counts.gz')\n",
    "    for sample in qc_meta:\n",
    "        sample_qc = qc_meta[sample]\n",
    "        proc_qc_fail = 0\n",
    "        if sample_qc['proc_mMed'] < 10.0 or sample_qc['proc_mMed'] < 10.0:\n",
    "            proc_qc_fail = 1\n",
    "        all_sample_meta[sample]['proc_qc_fail'] = proc_qc_fail\n",
    "        all_sample_meta[sample]['batch'] = batch\n",
    "        all_sample_meta[sample].update(sample_qc)\n",
    "        all_sample_meta[sample].update(cell_meta[sample])\n",
    "        all_sample_meta[sample]['processing_complete'] = 1"
   ]
  },
  {
   "cell_type": "code",
   "execution_count": 48,
   "metadata": {},
   "outputs": [],
   "source": [
    "sample_meta = {sample:sample_info for sample, sample_info in all_sample_meta.items() if 'processing_complete' in sample_info}"
   ]
  },
  {
   "cell_type": "code",
   "execution_count": 49,
   "metadata": {},
   "outputs": [],
   "source": [
    "if not os.path.exists(f'{wd}processed_sample_meta.pkl'):\n",
    "    with open(f'{wd}processed_sample_meta.pkl', 'wb') as out:\n",
    "        pickle.dump(sample_meta, out)\n",
    "    with open(f'{wd}processed_ref_meta.pkl', 'wb') as out:\n",
    "        pickle.dump(ref_sample_meta, out)"
   ]
  },
  {
   "cell_type": "code",
   "execution_count": null,
   "metadata": {},
   "outputs": [],
   "source": []
  }
 ],
 "metadata": {
  "kernelspec": {
   "display_name": "Python 3",
   "language": "python",
   "name": "python3"
  },
  "language_info": {
   "codemirror_mode": {
    "name": "ipython",
    "version": 3
   },
   "file_extension": ".py",
   "mimetype": "text/x-python",
   "name": "python",
   "nbconvert_exporter": "python",
   "pygments_lexer": "ipython3",
   "version": "3.7.2"
  }
 },
 "nbformat": 4,
 "nbformat_minor": 4
}
