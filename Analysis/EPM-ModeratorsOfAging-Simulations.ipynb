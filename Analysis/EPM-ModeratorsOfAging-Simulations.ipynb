{
 "cells": [
  {
   "cell_type": "markdown",
   "metadata": {},
   "source": [
    "# EPM Moderators of Aging - Simulations"
   ]
  },
  {
   "cell_type": "markdown",
   "metadata": {},
   "source": [
    "## Notebook Setup"
   ]
  },
  {
   "cell_type": "code",
   "execution_count": 1,
   "metadata": {},
   "outputs": [],
   "source": [
    "from collections import defaultdict, Counter\n",
    "import copy\n",
    "import pkg_resources\n",
    "from typing import Dict, List, Set, Tuple, Union\n",
    "import sys\n",
    "\n",
    "from EPMSim.MethylationSite.SiteGenerator import SiteGenerator\n",
    "from EPMSim.MethylationSite.ValueGenerator import generate_sample_methylation\n",
    "from EPMSim.Simulate.SimulateSamples import simulate_samples\n",
    "from EPMSim.Sample import Sample\n",
    "from EPMSim.Phenotype import BinaryPhenotype, ContinuousPhenotype, construct_age_association\n",
    "from EPMSim.Simulate.SimulateSites import GenerateSites\n",
    "\n",
    "from EpigeneticPacemaker.EpigeneticPacemaker import EpigeneticPacemaker\n",
    "from EpigeneticPacemaker.EpigeneticPacemakerCV import EpigeneticPacemakerCV\n",
    "from EPMTrait.DataHandlers import retrieve_sample_methylation\n",
    "from EPMTrait.ModelHelpers import basic_func, fit_trend, get_age_bins, mae, pearson_correlation, r2\n",
    "from EPMTrait.Plots import plot_known_predicted\n",
    "\n",
    "import joblib\n",
    "import matplotlib.pyplot as plt\n",
    "import numpy as np\n",
    "import pandas as pd\n",
    "from patsy import dmatrices\n",
    "from scipy import optimize\n",
    "import scipy.stats as stats\n",
    "import seaborn as sns\n",
    "from sklearn.decomposition import PCA\n",
    "from sklearn.linear_model import ElasticNet\n",
    "from sklearn.model_selection import train_test_split\n",
    "import statsmodels.api as sm\n",
    "import statsmodels.formula.api as smf    \n",
    "from tqdm.notebook import tqdm"
   ]
  },
  {
   "cell_type": "markdown",
   "metadata": {
    "tags": []
   },
   "source": [
    "### Get Session Environment Information\n",
    "- notebook environment \n",
    "    - Python 3.8.0 (default, Dec  5 2019, 19:17:49) [GCC 9.2.1 20191008]\n",
    "    - EPMSim 0.0.1\n",
    "    - EPMTrait 0.0.1\n",
    "    - EpigeneticPacemaker 0.0.3\n",
    "    - backcall 0.2.0\n",
    "    - cffi 1.14.0\n",
    "    - colorama 0.4.3\n",
    "    - cycler 0.10.0\n",
    "    - decorator 4.4.1\n",
    "    - ipykernel 5.3.0\n",
    "    - ipywidgets 7.6.3\n",
    "    - jedi 0.17.2\n",
    "    - joblib 1.0.1\n",
    "    - kiwisolver 1.1.0\n",
    "    - matplotlib 3.4.3\n",
    "    - numexpr 2.7.1\n",
    "    - numpy 1.21.1\n",
    "    - pandas 1.3.1\n",
    "    - parso 0.7.0\n",
    "    - patsy 0.5.1\n",
    "    - pexpect 4.7.0\n",
    "    - pickleshare 0.7.5\n",
    "    - pip 21.2.4\n",
    "    - psutil 5.7.0\n",
    "    - ptyprocess 0.6.0\n",
    "    - pyparsing 2.4.5\n",
    "    - pytz 2019.3\n",
    "    - scikit-learn 0.24.2\n",
    "    - scipy 1.4.1\n",
    "    - seaborn 0.11.1\n",
    "    - simplejson 3.17.0\n",
    "    - six 1.15.0\n",
    "    - statsmodels 0.11.1\n",
    "    - tornado 6.1\n",
    "    - tqdm 4.62.2\n",
    "    - traitlets 4.3.3\n",
    "    - wcwidth 0.2.4"
   ]
  },
  {
   "cell_type": "code",
   "execution_count": 2,
   "metadata": {},
   "outputs": [],
   "source": [
    "def get_session_info(import_diff_modules=[]):\n",
    "    '''\n",
    "    Retrieve python version and list of imported packages that \n",
    "    are imported directly or as dependencies:\n",
    "        Args:\n",
    "            import_diff_modules (List[str]): list of modules that have different install and \n",
    "                                        import names, ie scikit-learn imported with sklearn\n",
    "        Returns:\n",
    "            Dict[str, str]: package_name : version \n",
    "    '''\n",
    "    local_pkgs = {str(i).split()[0]:str(i).split()[1] for i in pkg_resources.working_set}\n",
    "    session_pkgs = {'Python':sys.version}\n",
    "    for pkg in sorted(list(set([x.split('.')[0] for x in sys.modules])) + import_diff_modules):\n",
    "        if pkg in local_pkgs:\n",
    "            session_pkgs[pkg] = local_pkgs[pkg]\n",
    "    return session_pkgs"
   ]
  },
  {
   "cell_type": "code",
   "execution_count": 3,
   "metadata": {},
   "outputs": [],
   "source": [
    "# collect session info\n",
    "session_info = get_session_info(import_diff_modules=['scikit-learn'])"
   ]
  },
  {
   "cell_type": "markdown",
   "metadata": {},
   "source": [
    "### Set Plot Characteristics"
   ]
  },
  {
   "cell_type": "code",
   "execution_count": 4,
   "metadata": {},
   "outputs": [],
   "source": [
    "sns.set(palette=\"Paired\", style='white')\n",
    "plt.rcParams['legend.title_fontsize'] = 18\n",
    "plt.rcParams['xtick.labelsize'] = 18\n",
    "plt.rcParams['ytick.labelsize'] = 18\n",
    "plt.rcParams['axes.labelsize'] = 20\n",
    "plt.rcParams['legend.markerscale'] = 2\n",
    "plt.rcParams['legend.fontsize'] = 18\n",
    "plt.rcParams['text.usetex'] = True"
   ]
  },
  {
   "cell_type": "markdown",
   "metadata": {},
   "source": [
    "## Set Simulation Phenotypes"
   ]
  },
  {
   "cell_type": "code",
   "execution_count": 5,
   "metadata": {},
   "outputs": [],
   "source": [
    "# set trait age assocition for binary phenotype\n",
    "\n",
    "bp_age_association, bp_repr = construct_age_association(age_weight=.01, age_exponent=0.5, return_repr=True)"
   ]
  },
  {
   "cell_type": "code",
   "execution_count": 6,
   "metadata": {},
   "outputs": [],
   "source": [
    "pheno_labels = []"
   ]
  },
  {
   "cell_type": "code",
   "execution_count": 7,
   "metadata": {},
   "outputs": [],
   "source": [
    "pheno_range = 10"
   ]
  },
  {
   "cell_type": "code",
   "execution_count": 8,
   "metadata": {},
   "outputs": [],
   "source": [
    "# set continuous traits with nonlinear time relationship \n",
    "\n",
    "continuous_age_onlys = [ContinuousPhenotype(mean=1.0, std=0.05, age_association=construct_age_association(age_weight=.1, age_exponent=np.random.normal(.5, .1)),\n",
    "                                          representation=f'continuous_age_only_{x}',\n",
    "                                          health_effect=False, health_dist=False) for x in range(pheno_range *2)]\n",
    "pheno_labels.extend([str(x) for x in continuous_age_onlys])"
   ]
  },
  {
   "cell_type": "code",
   "execution_count": 9,
   "metadata": {},
   "outputs": [],
   "source": [
    "# set continuous traits with linear time relationship \n",
    "\n",
    "continuous_lin_age_onlys = [ContinuousPhenotype(mean=1.0, std=0.05, age_association=construct_age_association(age_weight=.1, age_exponent=np.random.normal(1, .1)),\n",
    "                                          representation=f'continuous_age_only_lin_{x}',\n",
    "                                          health_effect=False, health_dist=False) for x in range(pheno_range * 2)]\n",
    "pheno_labels.extend([str(x) for x in continuous_lin_age_onlys])"
   ]
  },
  {
   "cell_type": "code",
   "execution_count": 10,
   "metadata": {},
   "outputs": [],
   "source": [
    "# continuous linear traits influenced by sample health and age\n",
    "\n",
    "continuous_age_lin = [ContinuousPhenotype(mean=1.0, std=0.01, age_association=construct_age_association(age_weight=.1, age_exponent=np.random.normal(1, .1)),\n",
    "                                          representation=f'continuous_lin_{x}',\n",
    "                                          health_effect=True, health_dist=True) for x in range(pheno_range)]\n",
    "pheno_labels.extend([str(x) for x in continuous_age_lin])"
   ]
  },
  {
   "cell_type": "code",
   "execution_count": 11,
   "metadata": {},
   "outputs": [],
   "source": [
    "# continuous nonlinear traits influenced by sample health and age\n",
    "\n",
    "continuous_emps = [ContinuousPhenotype(mean=1, std=0.01, age_association=construct_age_association(age_weight=.1, age_exponent=np.random.normal(0.5, .1)),\n",
    "                                          representation=f'continuous_emp_{x}',\n",
    "                                          health_effect=True, health_dist=True) for x in range(pheno_range)]\n",
    "pheno_labels.extend([str(x) for x in continuous_emps])"
   ]
  },
  {
   "cell_type": "code",
   "execution_count": 12,
   "metadata": {},
   "outputs": [],
   "source": [
    "# set std for contiuous trait sampling at binary mean of 0.995\n",
    "cont_assess_ranges = [0.00025, 0.0005, 0.001, 0.0015, 0.002]"
   ]
  },
  {
   "cell_type": "code",
   "execution_count": 13,
   "metadata": {},
   "outputs": [],
   "source": [
    "binary_phenotypes = {}\n",
    "\n",
    "for mean in np.linspace(.995, 1.00, 5):\n",
    "    for count in range(50):\n",
    "        contin_trait_range = list(np.linspace(0, 0.01, 5)) +  cont_assess_ranges if mean == 0.995 else list(np.linspace(0, 0.01, 5))\n",
    "        for contin_trait in contin_trait_range:\n",
    "            label = f'bin_cat_decrease'\n",
    "            bp = BinaryPhenotype(mean=mean, std=0.0, binary_prob=0.5,\n",
    "                                 age_association=bp_age_association,\n",
    "                                 representation=label,\n",
    "                                 health_dist=False, health_effect=True\n",
    "                                 )\n",
    "            binary_phenotypes[f'{label}_{mean}_{count}_{contin_trait}'] = [bp, contin_trait]"
   ]
  },
  {
   "cell_type": "markdown",
   "metadata": {},
   "source": [
    "### Plot Toy Simulation Example"
   ]
  },
  {
   "cell_type": "code",
   "execution_count": 14,
   "metadata": {},
   "outputs": [],
   "source": [
    "sim_conditions = [dict(age_weight=.1, age_exponent=.5, exponent_std=0.1),\n",
    "                  dict(age_weight=.1, age_exponent=1, exponent_std=0.1)]"
   ]
  },
  {
   "cell_type": "code",
   "execution_count": 15,
   "metadata": {},
   "outputs": [],
   "source": [
    "def get_expected_state(ages, q=1, age_weight=1, age_exponent=1):\n",
    "    expected = (ages ** age_exponent * age_weight * q)\n",
    "    return expected / max(expected)"
   ]
  },
  {
   "cell_type": "code",
   "execution_count": 16,
   "metadata": {},
   "outputs": [
    {
     "name": "stdout",
     "output_type": "stream",
     "text": [
      "$p_{k,j} = Age_j^{\\mathcal{N}(0.5, 0.01)} q_{k,j}$\n",
      "$p_{k,j} = Age_j^{\\mathcal{N}(1, 0.01)} q_{k,j}$\n"
     ]
    },
    {
     "data": {
      "image/png": "[encoded data removed]",
      "text/plain": [
       "<Figure size 864x864 with 1 Axes>"
      ]
     },
     "metadata": {},
     "output_type": "display_data"
    }
   ],
   "source": [
    "fig, ax = plt.subplots(figsize=(12,12))\n",
    "\n",
    "colors = ['b', 'g', 'r', 'y']\n",
    "\n",
    "for count, sim in enumerate(sim_conditions):\n",
    "    example_ages = np.linspace(0,100, 100)\n",
    "    exp_1 = get_expected_state(example_ages, age_exponent=sim['age_exponent'] - sim['exponent_std'])\n",
    "    exp_2 = get_expected_state(example_ages, age_exponent=sim['age_exponent'])\n",
    "    exp_3 = get_expected_state(example_ages, age_exponent=sim['age_exponent'] + sim['exponent_std'])\n",
    "    ax.plot(example_ages, exp_1, color=colors[count], alpha=0.0)\n",
    "    ax.plot(example_ages, exp_2, color=colors[count],\n",
    "            label=f'$p_{{k,j}} = Age_j^{{\\\\mathcal{{N}}({sim[\"age_exponent\"]}, 0.01)}} q_{{k,j}}$')\n",
    "    print(str(f'$p_{{k,j}} = Age_j^{{\\\\mathcal{{N}}({sim[\"age_exponent\"]}, 0.01)}} q_{{k,j}}$'))\n",
    "    ax.plot(example_ages, exp_3, color=colors[count], alpha=0.0)\n",
    "    ax.fill_between(example_ages, exp_1, exp_3, color=colors[count], alpha=0.5)\n",
    "    \n",
    "ax.set_xlabel('Chronological Age (y)')\n",
    "ax.set_ylabel('State')\n",
    "plt.legend()\n",
    "plt.savefig('figures/Figure1.png', dpi=200, bbox_inches='tight')\n",
    "plt.show()"
   ]
  },
  {
   "cell_type": "markdown",
   "metadata": {},
   "source": [
    "### Simulate Sites and Sample Methylation"
   ]
  },
  {
   "cell_type": "code",
   "execution_count": 17,
   "metadata": {},
   "outputs": [],
   "source": [
    "phenotype_systems = {label: [bp[0]] + continuous_age_onlys + continuous_age_lin + continuous_emps + continuous_lin_age_onlys for label, bp in binary_phenotypes.items()}"
   ]
  },
  {
   "cell_type": "code",
   "execution_count": 18,
   "metadata": {},
   "outputs": [],
   "source": [
    "first_condition_labels = [str(pheno) for pheno in phenotype_systems[list(phenotype_systems.keys())[0]]]\n",
    "conditions = {count: [[str(pheno)], 5] for count, pheno in enumerate(first_condition_labels)}\n",
    "for x in range(pheno_range):\n",
    "    conditions[len(conditions) + 1] = [[f'continuous_emp_{x}', 'bin_cat_decrease', f'continuous_age_only_lin_{x}', f'continuous_age_only_{x}', f'continuous_lin_{x}'], 5]\n",
    "conditions[0] = [['bin_cat_decrease'], 100]\n",
    "site_gen = GenerateSites(site_conditions=conditions, noise_sites=0)\n",
    "site_gen.generate_sites()"
   ]
  },
  {
   "cell_type": "code",
   "execution_count": 19,
   "metadata": {},
   "outputs": [
    {
     "data": {
      "text/plain": [
       "450"
      ]
     },
     "execution_count": 19,
     "metadata": {},
     "output_type": "execute_result"
    }
   ],
   "source": [
    "len(site_gen.sites)"
   ]
  },
  {
   "cell_type": "code",
   "execution_count": 20,
   "metadata": {},
   "outputs": [],
   "source": [
    "age_sites = [count for count, site in enumerate(site_gen.sites) if any(['continuous_age_only' in site['site_phenotypes'][0] or 'continuous_age_only_lin' in site['site_phenotypes'][0]]) and len(site['site_phenotypes']) == 1]"
   ]
  },
  {
   "cell_type": "code",
   "execution_count": 21,
   "metadata": {},
   "outputs": [],
   "source": [
    "binary_sites = [count for count, site in enumerate(site_gen.sites) if site['site_phenotypes'][0] == 'bin_cat_decrease' and len(site['site_phenotypes']) < 2]"
   ]
  },
  {
   "cell_type": "code",
   "execution_count": 22,
   "metadata": {},
   "outputs": [],
   "source": [
    "continuous_sites = [count for count, site in enumerate(site_gen.sites) if any(['continuous_lin_' in site['site_phenotypes'][0] or 'continuous_emp' in site['site_phenotypes'][0]]) and len(site['site_phenotypes']) == 1]"
   ]
  },
  {
   "cell_type": "code",
   "execution_count": 23,
   "metadata": {},
   "outputs": [],
   "source": [
    "mixed_sites = [count for count, site in enumerate(site_gen.sites) if len(site['site_phenotypes']) > 1]"
   ]
  },
  {
   "cell_type": "code",
   "execution_count": 24,
   "metadata": {},
   "outputs": [],
   "source": [
    "def gen_sim_samples(bp, ps, health_variation=0.01, sample_count=1000):\n",
    "    return bp, simulate_samples(phenotypes=ps, health_variation=health_variation, \n",
    "                                sample_count=sample_count, \n",
    "                                epigenetic_state=lambda x: 10.0 * x**0.5)"
   ]
  },
  {
   "cell_type": "code",
   "execution_count": 25,
   "metadata": {},
   "outputs": [
    {
     "name": "stderr",
     "output_type": "stream",
     "text": [
      "[Parallel(n_jobs=16)]: Using backend LokyBackend with 16 concurrent workers.\n",
      "[Parallel(n_jobs=16)]: Done  18 tasks      | elapsed:    2.4s\n",
      "[Parallel(n_jobs=16)]: Done 168 tasks      | elapsed:   13.4s\n",
      "[Parallel(n_jobs=16)]: Done 418 tasks      | elapsed:   31.5s\n",
      "[Parallel(n_jobs=16)]: Done 768 tasks      | elapsed:   57.5s\n",
      "[Parallel(n_jobs=16)]: Done 1218 tasks      | elapsed:  1.5min\n",
      "[Parallel(n_jobs=16)]: Done 1500 out of 1500 | elapsed:  1.8min finished\n"
     ]
    }
   ],
   "source": [
    "bp_samples = joblib.Parallel(n_jobs=16, verbose=1)(joblib.delayed(gen_sim_samples)(*[label, phenotype_systems[label], \n",
    "                                                                                      binary_phenotypes[label][1], 500]) for label in phenotype_systems)"
   ]
  },
  {
   "cell_type": "code",
   "execution_count": 26,
   "metadata": {},
   "outputs": [],
   "source": [
    "bp_samples = {x[0]: x[1] for x in bp_samples}"
   ]
  },
  {
   "cell_type": "code",
   "execution_count": 27,
   "metadata": {},
   "outputs": [],
   "source": [
    "def gen_sites(bp, site_gen, samples):\n",
    "    meth_values, meth_errors = site_gen.generate_sample_methylation(samples)\n",
    "    return bp, dict(meth_values=meth_values, meth_errors=meth_errors)"
   ]
  },
  {
   "cell_type": "code",
   "execution_count": 28,
   "metadata": {},
   "outputs": [
    {
     "name": "stderr",
     "output_type": "stream",
     "text": [
      "[Parallel(n_jobs=16)]: Using backend LokyBackend with 16 concurrent workers.\n",
      "[Parallel(n_jobs=16)]: Done  18 tasks      | elapsed:    4.1s\n",
      "[Parallel(n_jobs=16)]: Done 168 tasks      | elapsed:   26.1s\n",
      "[Parallel(n_jobs=16)]: Done 418 tasks      | elapsed:  1.1min\n",
      "[Parallel(n_jobs=16)]: Done 768 tasks      | elapsed:  2.0min\n",
      "[Parallel(n_jobs=16)]: Done 1218 tasks      | elapsed:  3.4min\n",
      "[Parallel(n_jobs=16)]: Done 1500 out of 1500 | elapsed:  4.6min finished\n"
     ]
    }
   ],
   "source": [
    "generated_sites = joblib.Parallel(n_jobs=16, verbose=1)(joblib.delayed(gen_sites)(*[bp, site_gen, bp_samples[bp]]) for bp in phenotype_systems)"
   ]
  },
  {
   "cell_type": "code",
   "execution_count": 29,
   "metadata": {},
   "outputs": [],
   "source": [
    "generated_sites = {sites[0]: sites[1] for sites in generated_sites}"
   ]
  },
  {
   "cell_type": "markdown",
   "metadata": {},
   "source": [
    "### Process Simulated Traits "
   ]
  },
  {
   "cell_type": "code",
   "execution_count": 30,
   "metadata": {},
   "outputs": [],
   "source": [
    "def construct_phenotype_matrix(samples):\n",
    "    sample_phenotypes = {}\n",
    "    for sample, sample_info in samples.items():\n",
    "        pheno = {trait_label: trait.trait_value for trait_label, trait in sample_info.phenotypes.items()}\n",
    "        pheno.update({f'{trait_label}_has_trait': trait.has_trait for trait_label, trait in sample_info.phenotypes.items()})\n",
    "        pheno['age'] = sample_info.age\n",
    "        pheno['ageSqrt'] = np.sqrt(sample_info.age)\n",
    "        pheno['state'] = sample_info.epigenetic_state\n",
    "        pheno['expected_state'] = sample_info.expected_epigenetic_state\n",
    "        pheno['continuous'] = sample_info.health\n",
    "        sample_phenotypes[sample] = pheno\n",
    "    return pd.DataFrame(sample_phenotypes).T"
   ]
  },
  {
   "cell_type": "code",
   "execution_count": 31,
   "metadata": {},
   "outputs": [],
   "source": [
    "def add_bin(phenotype_df):\n",
    "    bin_cat = [cat for cat in list(phenotype_df) if 'bin_cat_decrease' in cat]\n",
    "    bin_values = [1 if value else 0 for value in phenotype_df[f'{bin_cat[0]}_has_trait'].values]\n",
    "    phenotype_df['bin'] = np.array(bin_values)"
   ]
  },
  {
   "cell_type": "code",
   "execution_count": 32,
   "metadata": {},
   "outputs": [
    {
     "data": {
      "application/vnd.jupyter.widget-view+json": {
       "model_id": "a736c5d348eb41cebec50347a7200334",
       "version_major": 2,
       "version_minor": 0
      },
      "text/plain": [
       "  0%|          | 0/1500 [00:00<?, ?it/s]"
      ]
     },
     "metadata": {},
     "output_type": "display_data"
    }
   ],
   "source": [
    "for bp, b_samples in tqdm(bp_samples.items()):\n",
    "    df = construct_phenotype_matrix(b_samples) \n",
    "    add_bin(df)\n",
    "    generated_sites[bp]['phenotype_df'] = df"
   ]
  },
  {
   "cell_type": "markdown",
   "metadata": {},
   "source": [
    "### Fit EPM and LM Models for Simulated Datasets"
   ]
  },
  {
   "cell_type": "code",
   "execution_count": 33,
   "metadata": {},
   "outputs": [],
   "source": [
    "# set train, test indices to used across all simulations \n",
    "train_samples, test_samples = train_test_split(np.array(list(bp_samples[list(bp_samples.keys())[0]].keys())), test_size=0.5)"
   ]
  },
  {
   "cell_type": "code",
   "execution_count": 34,
   "metadata": {},
   "outputs": [],
   "source": [
    "def clean_results(epm, popt, phenotypes,\n",
    "                  train_samples, train_states, train_expected,\n",
    "                  test_samples, test_states, test_expected,\n",
    "                  lm, train_ea, test_ea,\n",
    "                  train_ea_diff, test_ea_diff):\n",
    "    sample_results = phenotypes.T.to_dict()\n",
    "    for sample, state, expected, ea, ea_diff in zip(train_samples, train_states, train_expected, train_ea, train_ea_diff):\n",
    "        sample_results[sample].update({'status':'train', 'state':state, 'expected': expected,\n",
    "                                       'diff':state - expected, 'ea':ea, 'ea_diff':ea_diff})\n",
    "    for sample, state, expected, ea, ea_diff in zip(test_samples, test_states, test_expected, test_ea, test_ea_diff):\n",
    "        sample_results[sample].update({'status':'test', 'state':state, 'expected': expected,\n",
    "                                       'diff': state - expected, 'ea': ea, 'ea_diff': ea_diff})\n",
    "    return dict(sample_results=sample_results, model=epm, popt=popt, lm=lm, \n",
    "                train_r2=r2(train_states, train_expected), test_r2=r2(test_states, test_expected),\n",
    "                train_ma2=mae(train_states, train_expected), test_mae=mae(test_states, test_expected))"
   ]
  },
  {
   "cell_type": "code",
   "execution_count": 35,
   "metadata": {},
   "outputs": [],
   "source": [
    "def fit_epm(values, ages) -> Tuple[EpigeneticPacemaker, np.ndarray]:\n",
    "    # initialize and fit EPM \n",
    "    epm = EpigeneticPacemaker()\n",
    "    epm.fit(values, ages)\n",
    "    states = epm.predict(values)\n",
    "    return epm, states"
   ]
  },
  {
   "cell_type": "code",
   "execution_count": 36,
   "metadata": {},
   "outputs": [],
   "source": [
    "def fit_lm(values, ages, en_kwargs):\n",
    "    ## initialize and fit penalized regression model\n",
    "    lm = ElasticNet(**en_kwargs)\n",
    "    lm.fit(values.T, ages)\n",
    "    predicted = lm.predict(values.T)\n",
    "    return lm, predicted"
   ]
  },
  {
   "cell_type": "code",
   "execution_count": 37,
   "metadata": {},
   "outputs": [],
   "source": [
    "default_en_kwargs = dict(alpha=1.0, l1_ratio=0.75, fit_intercept=True, normalize=False, precompute=False, max_iter=100, copy_X=True, tol=0.0001, warm_start=False, positive=False, random_state=None, selection='random')"
   ]
  },
  {
   "cell_type": "code",
   "execution_count": 38,
   "metadata": {},
   "outputs": [],
   "source": [
    "def process_sim_exp(exp_id, exp_info, _train_samples, _test_samples, matrix_sites=None, en_kwargs=None):\n",
    "    matrix, phenotypes = exp_info['meth_values'], exp_info['phenotype_df']\n",
    "    if matrix_sites:\n",
    "        meth_matrix = matrix[matrix_sites, :]\n",
    "    else:\n",
    "        meth_matrix = matrix\n",
    "        \n",
    "    # subset matrix\n",
    "    train_matrix, test_matrix = meth_matrix[:, _train_samples], meth_matrix[:, _test_samples]\n",
    "    train_ages, test_ages = phenotypes.loc[_train_samples]['age'].values, phenotypes.loc[_test_samples]['age'].values\n",
    "       \n",
    "    # train epm\n",
    "    epm, train_states = fit_epm(train_matrix, train_ages)\n",
    "    popt, _, train_expected = fit_trend(train_ages, train_states, func=basic_func)\n",
    "\n",
    "    \n",
    "    # train en\n",
    "    lm, train_ea = fit_lm(train_matrix, train_ages, en_kwargs)\n",
    "    lm_sites = np.array([count for count, coef in enumerate(lm.coef_) if coef])\n",
    "    train_ea_diff = train_ages - train_ea\n",
    "\n",
    "    # get test predictions\n",
    "    test_states = epm.predict(test_matrix)\n",
    "    test_expected = basic_func(test_ages, *popt)\n",
    "    test_ea = lm.predict(test_matrix.T)\n",
    "    test_ea_diff = test_ea - test_ages\n",
    "    \n",
    "    res = clean_results(epm, popt, phenotypes,\n",
    "                        _train_samples, train_states, train_expected,\n",
    "                        _test_samples, test_states, test_expected,\n",
    "                        lm, train_ea, test_ea, train_ea_diff, test_ea_diff)\n",
    "    res.update(dict(lm_train_r2=r2(train_ea, train_ages), lm_train_mae=mae(train_ea, train_ages),\n",
    "                    lm_test_r2=r2(test_ea, test_ages), lm_test_mae=mae(test_ea, test_ages),\n",
    "                    lm_sites=lm_sites))\n",
    "    return exp_id, res"
   ]
  },
  {
   "cell_type": "code",
   "execution_count": 39,
   "metadata": {},
   "outputs": [],
   "source": [
    "# format sim exps for processing\n",
    "\n",
    "exp_runs = []\n",
    "\n",
    "for bp, exp_info, in generated_sites.items():\n",
    "    bp_health_std = float(bp.split('_')[-1])\n",
    "    if bp_health_std in cont_assess_ranges:\n",
    "        continue\n",
    "    else:\n",
    "        exp_runs.append([bp, copy.deepcopy(exp_info), train_samples, test_samples, None, default_en_kwargs])"
   ]
  },
  {
   "cell_type": "code",
   "execution_count": 40,
   "metadata": {},
   "outputs": [
    {
     "name": "stderr",
     "output_type": "stream",
     "text": [
      "[Parallel(n_jobs=16)]: Using backend LokyBackend with 16 concurrent workers.\n",
      "[Parallel(n_jobs=16)]: Done  19 tasks      | elapsed:    8.9s\n",
      "[Parallel(n_jobs=16)]: Done 169 tasks      | elapsed:   14.3s\n",
      "[Parallel(n_jobs=16)]: Done 419 tasks      | elapsed:   23.8s\n",
      "[Parallel(n_jobs=16)]: Done 769 tasks      | elapsed:   39.0s\n",
      "[Parallel(n_jobs=16)]: Done 1219 tasks      | elapsed:  1.0min\n",
      "[Parallel(n_jobs=16)]: Done 1250 out of 1250 | elapsed:  1.0min finished\n"
     ]
    }
   ],
   "source": [
    "exp_results = joblib.Parallel(n_jobs=16, verbose=1)(joblib.delayed(process_sim_exp)(*exp) for exp in exp_runs)"
   ]
  },
  {
   "cell_type": "code",
   "execution_count": 41,
   "metadata": {},
   "outputs": [],
   "source": [
    "site_proportions = [((10 - count) * 5, count * 5) for count in range(6)]\n",
    "prop_cat = 'bin_cat_decrease_0.995'"
   ]
  },
  {
   "cell_type": "code",
   "execution_count": 42,
   "metadata": {},
   "outputs": [],
   "source": [
    "# collect all sim exps with varried continuous std\n",
    "\n",
    "contin_runs = []\n",
    "\n",
    "for bp, exp_info, in generated_sites.items():\n",
    "    bp_health_std = float(bp.split('_')[-1])\n",
    "    if prop_cat in bp:\n",
    "        contin_runs.append([bp, copy.deepcopy(exp_info), train_samples, test_samples, None, default_en_kwargs])"
   ]
  },
  {
   "cell_type": "code",
   "execution_count": 43,
   "metadata": {},
   "outputs": [
    {
     "name": "stderr",
     "output_type": "stream",
     "text": [
      "[Parallel(n_jobs=16)]: Using backend LokyBackend with 16 concurrent workers.\n",
      "[Parallel(n_jobs=16)]: Done  18 tasks      | elapsed:    0.5s\n",
      "[Parallel(n_jobs=16)]: Done 168 tasks      | elapsed:    3.0s\n",
      "[Parallel(n_jobs=16)]: Done 418 tasks      | elapsed:    9.1s\n",
      "[Parallel(n_jobs=16)]: Done 500 out of 500 | elapsed:   10.9s finished\n"
     ]
    }
   ],
   "source": [
    "contin_results = joblib.Parallel(n_jobs=16, verbose=1)(joblib.delayed(process_sim_exp)(*exp) for exp in contin_runs)"
   ]
  },
  {
   "cell_type": "markdown",
   "metadata": {},
   "source": [
    "### Fit LM to check for detectable associations"
   ]
  },
  {
   "cell_type": "code",
   "execution_count": 44,
   "metadata": {},
   "outputs": [],
   "source": [
    "site_labels = [site['site_phenotypes'][0] if len(site['site_phenotypes']) == 1 else 'Mixed' for site in site_gen.sites]\n",
    "site_labels = [site if 'continuous' not in site else '_'.join(site.split('_')[0:-1]) for site in site_labels]"
   ]
  },
  {
   "cell_type": "code",
   "execution_count": 45,
   "metadata": {},
   "outputs": [],
   "source": [
    "def get_design_matrices(y_cat=None, x_cats=[], exp_df=None, fit_intercept=False):\n",
    "    intercept = ' + 0' if not fit_intercept else ''\n",
    "    r_df = exp_df[[y_cat] + x_cats]\n",
    "    r_df = r_df.astype('float')\n",
    "    xs = ' + '.join(x_cats)\n",
    "    y, X = dmatrices(f'{y_cat} ~ {xs}{intercept}', data=r_df, return_type='dataframe')\n",
    "    return y, X"
   ]
  },
  {
   "cell_type": "code",
   "execution_count": 46,
   "metadata": {},
   "outputs": [],
   "source": [
    "def format_res(res):\n",
    "    results = []\n",
    "    for key, value in res.summary2().tables[1].T.to_dict().items():\n",
    "        for x in ['Coef.', 'Std.Err.', 't', 'P>|t|']:\n",
    "            results.append(value[x])\n",
    "    for x in res.summary2().tables[0].values:\n",
    "        for y in range(int(len(x) / 2)):\n",
    "            #model_info[x[y * 2]] = x[y * 2 + 1]\n",
    "            results.append(x[y * 2 + 1])\n",
    "    for x in res.summary2().tables[2].values:\n",
    "        for y in range(int(len(x) / 2)):\n",
    "            #model_info[x[y * 2]] = x[y * 2 + 1]\n",
    "            results.append(x[y * 2 + 1])\n",
    "    return results"
   ]
  },
  {
   "cell_type": "code",
   "execution_count": 47,
   "metadata": {},
   "outputs": [],
   "source": [
    "def fit_exp_model(y_cat=None, exp_df=None, fit_intercept=True):\n",
    "    x_cats = ['age', 'bin', 'continuous', 'ageSqrt']\n",
    "    y, X = get_design_matrices(y_cat, x_cats, exp_df, fit_intercept=fit_intercept)\n",
    "    results = sm.OLS(y, X).fit()\n",
    "    return format_res(results)"
   ]
  },
  {
   "cell_type": "code",
   "execution_count": 48,
   "metadata": {},
   "outputs": [],
   "source": [
    "def assess_sm_models(exp_df, fit_intercept=True):\n",
    "    epm_res = fit_exp_model(y_cat='state', exp_df=exp_df, fit_intercept=fit_intercept)\n",
    "    lm_res = fit_exp_model(y_cat='ea', exp_df=exp_df, fit_intercept=fit_intercept)\n",
    "    return epm_res + lm_res"
   ]
  },
  {
   "cell_type": "code",
   "execution_count": 49,
   "metadata": {},
   "outputs": [],
   "source": [
    "def split_label(label, label_type=None):\n",
    "    label_split = label.split('_')\n",
    "    new_label = '_'.join(label_split[0:-3])\n",
    "    q = float(label_split[3]) \n",
    "    formatted_q = f'{float(q): .3f}'\n",
    "    count = int(label_split[4])\n",
    "    con_std = float(label_split[5])\n",
    "    if label_type == 'prop':\n",
    "        a_sites = int(label_split[-2])\n",
    "        b_sites = int(label_split[-1]) \n",
    "        age_site_prop = a_sites / (a_sites + b_sites)\n",
    "        return [q, formatted_q, age_site_prop, f'{age_site_prop:.1f}', count, con_std]\n",
    "    elif label_type == 'number':\n",
    "        sample_number = int(label_split[-1])\n",
    "        return [q, formatted_q, sample_number, count, con_std]\n",
    "    return [q, formatted_q, count, con_std]"
   ]
  },
  {
   "cell_type": "code",
   "execution_count": 50,
   "metadata": {},
   "outputs": [],
   "source": [
    "def get_exp_assoc(exp, label_type=None):\n",
    "    exp_label = split_label(exp[0], label_type)    \n",
    "    exp_info = pd.DataFrame(exp[1]['sample_results']).T\n",
    "\n",
    "    exp_sm_res = assess_sm_models(exp_info)\n",
    "    \n",
    "    return exp_label + exp_sm_res "
   ]
  },
  {
   "cell_type": "code",
   "execution_count": 51,
   "metadata": {},
   "outputs": [
    {
     "name": "stderr",
     "output_type": "stream",
     "text": [
      "[Parallel(n_jobs=16)]: Using backend LokyBackend with 16 concurrent workers.\n",
      "[Parallel(n_jobs=16)]: Done  18 tasks      | elapsed:    1.2s\n",
      "[Parallel(n_jobs=16)]: Done 168 tasks      | elapsed:    3.3s\n",
      "[Parallel(n_jobs=16)]: Done 418 tasks      | elapsed:    7.0s\n",
      "[Parallel(n_jobs=16)]: Done 768 tasks      | elapsed:   11.5s\n",
      "[Parallel(n_jobs=16)]: Done 1218 tasks      | elapsed:   17.1s\n",
      "[Parallel(n_jobs=16)]: Done 1250 out of 1250 | elapsed:   17.4s finished\n"
     ]
    }
   ],
   "source": [
    "exp_sm_stats = joblib.Parallel(n_jobs=16, verbose=1)(joblib.delayed(get_exp_assoc)(*[exp, None]) for exp in exp_results)"
   ]
  },
  {
   "cell_type": "code",
   "execution_count": 52,
   "metadata": {},
   "outputs": [
    {
     "name": "stderr",
     "output_type": "stream",
     "text": [
      "[Parallel(n_jobs=16)]: Using backend LokyBackend with 16 concurrent workers.\n",
      "[Parallel(n_jobs=16)]: Done  18 tasks      | elapsed:    0.3s\n",
      "[Parallel(n_jobs=16)]: Done 304 tasks      | elapsed:    3.8s\n",
      "[Parallel(n_jobs=16)]: Done 500 out of 500 | elapsed:    6.2s finished\n"
     ]
    }
   ],
   "source": [
    "contin_sm_stats = joblib.Parallel(n_jobs=16, verbose=1)(joblib.delayed(get_exp_assoc)(*[exp, None]) for exp in contin_results)"
   ]
  },
  {
   "cell_type": "markdown",
   "metadata": {},
   "source": [
    "### Clean and Plot results"
   ]
  },
  {
   "cell_type": "code",
   "execution_count": 53,
   "metadata": {},
   "outputs": [],
   "source": [
    "def get_sm_header(x_cats=['intercept', 'age', 'bin', 'continuous', 'ageSqrt'], comp_type=None):\n",
    "    left = ['q', 'formattedQ', 'count', 'Continuous STD']\n",
    "    if comp_type == 'prop':\n",
    "        left = ['q', 'formattedQ', 'ageSiteProp', 'formattedAgeSiteProp', 'count', 'Continuous STD']\n",
    "    elif comp_type == 'number':\n",
    "        left = ['q', 'formattedQ', 'sampleNumber', 'count', 'Continuous STD']\n",
    "    model_params = ['Model:','Adj. R-squared:','Dependent Variable:',\n",
    "             'AIC:','Date:','BIC:','No. Observations:',\n",
    "             'Log-Likelihood:','Df Model:','F-statistic:',\n",
    "             'Df Residuals:','Prob (F-statistic):',\n",
    "             'R-squared:','Scale:',\n",
    "             'Omnibus:','Durbin-Watson:','Prob(Omnibus):',\n",
    "             'Jarque-Bera (JB):','Skew:',\n",
    "             'Prob(JB):','Kurtosis:','Condition No.:']\n",
    "    coef_cats = ['Coef.', 'Std.Err.', 't', 'P']\n",
    "    middle = []\n",
    "    for model in ['epm', 'lm']:\n",
    "        for cat in x_cats:\n",
    "            for coef_cat in coef_cats:\n",
    "                middle.append(f'{model}-{cat}-{coef_cat}')\n",
    "        middle.extend([f'{model}-{x}' for x in model_params])\n",
    "    return left + middle"
   ]
  },
  {
   "cell_type": "code",
   "execution_count": 54,
   "metadata": {},
   "outputs": [],
   "source": [
    "def get_lm_count_header(site_labels, comp_type=None):\n",
    "    left = ['q', 'formattedQ', 'count', 'Continuous STD']\n",
    "    if comp_type == 'prop':\n",
    "        left = ['q', 'formattedQ', 'ageSiteProp', 'formattedAgeSiteProp', 'count', 'Continuous STD']\n",
    "    elif comp_type == 'number':\n",
    "        left = ['q', 'formattedQ', 'sampleNumber', 'count', 'Continuous STD']\n",
    "    return left + sorted(list(set(site_labels)))"
   ]
  },
  {
   "cell_type": "code",
   "execution_count": 55,
   "metadata": {},
   "outputs": [],
   "source": [
    "exp_sm_stats_df = pd.DataFrame(exp_sm_stats, columns=get_sm_header())"
   ]
  },
  {
   "cell_type": "code",
   "execution_count": 56,
   "metadata": {},
   "outputs": [],
   "source": [
    "contin_sm_stats_df = pd.DataFrame(contin_sm_stats, columns=get_sm_header())"
   ]
  },
  {
   "cell_type": "code",
   "execution_count": 57,
   "metadata": {},
   "outputs": [
    {
     "data": {
      "text/plain": [
       "(0.03520314939834487, 0.089602954476278)"
      ]
     },
     "execution_count": 57,
     "metadata": {},
     "output_type": "execute_result"
    }
   ],
   "source": [
    "np.mean(exp_sm_stats_df.loc[exp_sm_stats_df['formattedQ'] == ' 0.995']['epm-bin-P'].values), np.std(exp_sm_stats_df.loc[exp_sm_stats_df['formattedQ'] == ' 0.995']['epm-bin-P'].values)"
   ]
  },
  {
   "cell_type": "code",
   "execution_count": 58,
   "metadata": {},
   "outputs": [
    {
     "data": {
      "text/plain": [
       "(0.269436930948381, 0.2827964574290169)"
      ]
     },
     "execution_count": 58,
     "metadata": {},
     "output_type": "execute_result"
    }
   ],
   "source": [
    "np.mean(exp_sm_stats_df.loc[exp_sm_stats_df['formattedQ'] == ' 0.995']['lm-bin-P'].values), np.std(exp_sm_stats_df.loc[exp_sm_stats_df['formattedQ'] == ' 0.995']['lm-bin-P'].values)"
   ]
  },
  {
   "cell_type": "code",
   "execution_count": 59,
   "metadata": {},
   "outputs": [
    {
     "data": {
      "text/plain": [
       "(0.01944110687557254, 0.0436109264008506)"
      ]
     },
     "execution_count": 59,
     "metadata": {},
     "output_type": "execute_result"
    }
   ],
   "source": [
    "np.mean(contin_sm_stats_df.loc[contin_sm_stats_df['Continuous STD'] == 0.0025]['epm-continuous-P']), np.std(contin_sm_stats_df.loc[contin_sm_stats_df['Continuous STD'] == 0.0025]['epm-continuous-P'])"
   ]
  },
  {
   "cell_type": "code",
   "execution_count": 60,
   "metadata": {},
   "outputs": [
    {
     "data": {
      "text/plain": [
       "(0.06072307856814105, 0.1287629506508145)"
      ]
     },
     "execution_count": 60,
     "metadata": {},
     "output_type": "execute_result"
    }
   ],
   "source": [
    "np.mean(contin_sm_stats_df.loc[contin_sm_stats_df['Continuous STD'] == 0.0025]['lm-continuous-P']), np.std(contin_sm_stats_df.loc[contin_sm_stats_df['Continuous STD'] == 0.0025]['lm-continuous-P'])"
   ]
  },
  {
   "cell_type": "markdown",
   "metadata": {},
   "source": [
    "### Figure 1"
   ]
  },
  {
   "cell_type": "code",
   "execution_count": 61,
   "metadata": {},
   "outputs": [
    {
     "data": {
      "image/png": "[encoded data removed]",
      "text/plain": [
       "<Figure size 1728x1728 with 4 Axes>"
      ]
     },
     "metadata": {},
     "output_type": "display_data"
    }
   ],
   "source": [
    "fig, ax = plt.subplots(2, 2, figsize=(24,24))\n",
    "\n",
    "sns.boxenplot(x='formattedQ', y='epm-bin-P', ax=ax[0, 0], data=exp_sm_stats_df)\n",
    "ax[0,1].set_ylim(ax[0,0].get_ylim())\n",
    "sns.boxenplot(x='formattedQ', y='lm-bin-P', ax=ax[0, 1], data=exp_sm_stats_df)\n",
    "\n",
    "ax[0,0].set_xlabel('Simulated Binary Effect Size - $Q$')\n",
    "ax[0,1].set_xlabel('Simulated Binary Effect Size - $Q$')\n",
    "\n",
    "ax[0,0].set_ylabel('EPM Binary Trait $P$')\n",
    "ax[0,1].set_ylabel('LM Binary Trait $P$')\n",
    "\n",
    "sns.boxenplot(x='Continuous STD', y='epm-continuous-P', ax=ax[1, 0], data=contin_sm_stats_df.loc[contin_sm_stats_df['Continuous STD'] != 0.0])\n",
    "ax[1,1].set_ylim(ax[1,0].get_ylim())\n",
    "sns.boxenplot(x='Continuous STD', y='lm-continuous-P', ax=ax[1, 1], data=contin_sm_stats_df.loc[contin_sm_stats_df['Continuous STD'] != 0.0])\n",
    "\n",
    "ax[1,0].set_xlabel('Continuous Std.')\n",
    "ax[1,1].set_xlabel('Continuous Std.')\n",
    "ax[1,0].set_ylabel('EPM Continuous Trait $P$')\n",
    "ax[1,1].set_ylabel('LM Continuous Trait $P$')\n",
    "\n",
    "ax[0,0].text(-0.03, 1.02, f'A', transform=ax[0,0].transAxes, fontsize=26, weight='bold')\n",
    "ax[0,1].text(-0.03, 1.02, f'B', transform=ax[0,1].transAxes, fontsize=26, weight='bold')\n",
    "ax[1,0].text(-0.03, 1.02, f'C', transform=ax[1,0].transAxes, fontsize=26, weight='bold')\n",
    "ax[1,1].text(-0.03, 1.02, f'D', transform=ax[1,1].transAxes, fontsize=26, weight='bold')\n",
    "\n",
    "\n",
    "plt.tight_layout()\n",
    "plt.savefig('figures/Figure2.png', dpi=300)"
   ]
  }
 ],
 "metadata": {
  "kernelspec": {
   "display_name": "Python 3",
   "language": "python",
   "name": "python3"
  },
  "language_info": {
   "codemirror_mode": {
    "name": "ipython",
    "version": 3
   },
   "file_extension": ".py",
   "mimetype": "text/x-python",
   "name": "python",
   "nbconvert_exporter": "python",
   "pygments_lexer": "ipython3",
   "version": "3.8.0"
  }
 },
 "nbformat": 4,
 "nbformat_minor": 4
}
